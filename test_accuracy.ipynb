{
 "cells": [
  {
   "cell_type": "code",
   "execution_count": 18,
   "metadata": {},
   "outputs": [],
   "source": [
    "from app.text_matcher import TextAddress\n",
    "\n",
    "soundex_weight = 0.2\n",
    "\n",
    "data = []\n",
    "\n",
    "for soundex_weight in [0.1, 0.2, 0.3, 0.4]:\n",
    "    input_line_no = 1\n",
    "    input_addresses = open('data/erroneous_addresses.txt', 'r')\n",
    "\n",
    "    correct = 0\n",
    "    incorrect = 0\n",
    "    accuracy = 0\n",
    "\n",
    "    text_score_data = []\n",
    "    soundex_score_data = []\n",
    "    correctness_data = []\n",
    "\n",
    "    for input_line in input_addresses:\n",
    "        max_text_score = 0\n",
    "        max_soundex_score = 0\n",
    "        output_line_no = 0\n",
    "\n",
    "        curr_line_no = 1\n",
    "        with open('data/addresses.txt', 'r') as addresses:\n",
    "            for line in addresses:\n",
    "                addr = TextAddress(line.strip())\n",
    "                input_address = TextAddress(input_line.strip())\n",
    "                text_score = input_address.compare_text(addr)\n",
    "                soundex_score = input_address.compare_sound(addr)  \n",
    "\n",
    "                text_score_data.append(text_score)\n",
    "                soundex_score_data.append(soundex_score)\n",
    "                correctness_data.append(False)\n",
    "\n",
    "                composite_score = (1 - soundex_weight)*text_score + soundex_weight*soundex_score\n",
    "                if composite_score > (1 - soundex_weight)*max_text_score + soundex_weight*max_soundex_score:\n",
    "                    max_text_score = text_score\n",
    "                    max_soundex_score = soundex_score\n",
    "                    output_line_no = curr_line_no\n",
    "                curr_line_no += 1\n",
    "        \n",
    "        if output_line_no == input_line_no:\n",
    "            correct += 1\n",
    "        else:\n",
    "            incorrect += 1\n",
    "\n",
    "        text_score_data.append(max_text_score)\n",
    "        soundex_score_data.append(max_soundex_score)\n",
    "        correctness_data.append(True)\n",
    "            \n",
    "        input_line_no += 1\n",
    "\n",
    "    input_addresses.close()\n",
    "\n",
    "    accuracy = (correct/(correct+incorrect))\n",
    "    data.append([text_score_data, soundex_score_data, correctness_data, accuracy])"
   ]
  },
  {
   "cell_type": "code",
   "execution_count": 17,
   "metadata": {},
   "outputs": [
    {
     "name": "stdout",
     "output_type": "stream",
     "text": [
      "4\n",
      "7284600\n"
     ]
    }
   ],
   "source": [
    "import matplotlib.pyplot as plt\n",
    "\n",
    "soundex_weight = 0.1\n",
    "text_score_data = data[0][0][0:728460]\n",
    "soundex_score_data = data[0][1][0:728460]\n",
    "correctness_data = data[0][2][0:728460]\n",
    "accuracy = data[0][3]\n",
    "\n",
    "plt.scatter(x=text_score_data, y=soundex_score_data, marker='o', color=['red' if is_correct == True else 'blue' for is_correct in correctness_data])\n",
    "plt.title(f'Accuracy: {100 * accuracy}; Soundex Weight: {soundex_weight}')\n",
    "plt.xlabel('Text Score')\n",
    "plt.ylabel('Sound Score')\n",
    "plt.xlim(0, 100)\n",
    "plt.ylim(0, 100)\n",
    "plt.show()"
   ]
  },
  {
   "cell_type": "code",
   "execution_count": 6,
   "metadata": {},
   "outputs": [
    {
     "data": {
      "image/png": "[encoded data removed]",
      "text/plain": [
       "<Figure size 640x480 with 1 Axes>"
      ]
     },
     "metadata": {},
     "output_type": "display_data"
    }
   ],
   "source": [
    "top_score_data = []\n",
    "for i in range(len(text_score_data)):\n",
    "    if correctness_data[i]:\n",
    "        top_score_data.append((1 - soundex_weight)*text_score_data[i] + soundex_weight*soundex_score_data[i])\n",
    "\n",
    "plt.hist(top_score_data, bins=10, color='lightblue')\n",
    " \n",
    "# Adding labels and title\n",
    "plt.xlabel('Max Score')\n",
    "plt.ylabel('Frequency')\n",
    "plt.title('Max Score Histogram')\n",
    " \n",
    "# Display the plot\n",
    "plt.show()"
   ]
  }
 ],
 "metadata": {
  "kernelspec": {
   "display_name": "venv",
   "language": "python",
   "name": "python3"
  },
  "language_info": {
   "codemirror_mode": {
    "name": "ipython",
    "version": 3
   },
   "file_extension": ".py",
   "mimetype": "text/x-python",
   "name": "python",
   "nbconvert_exporter": "python",
   "pygments_lexer": "ipython3",
   "version": "3.12.1"
  }
 },
 "nbformat": 4,
 "nbformat_minor": 2
}
